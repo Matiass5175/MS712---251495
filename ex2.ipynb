{
 "cells": [
  {
   "cell_type": "code",
   "execution_count": 9,
   "metadata": {},
   "outputs": [],
   "source": [
    "import numpy as np\n",
    "from numpy import math\n",
    "pi = np.pi"
   ]
  },
  {
   "cell_type": "code",
   "execution_count": 10,
   "metadata": {},
   "outputs": [],
   "source": [
    "def phi(x, i):\n",
    "    return np.sin(i*x*pi)"
   ]
  },
  {
   "cell_type": "code",
   "execution_count": 11,
   "metadata": {},
   "outputs": [],
   "source": [
    "def dphi(x, i):\n",
    "    return i*pi*np.cos(i*pi*x)\n"
   ]
  },
  {
   "cell_type": "code",
   "execution_count": 12,
   "metadata": {},
   "outputs": [],
   "source": [
    "def integral_trapezio(f, a, b, n):\n",
    "    h = (b - a) / n\n",
    "    integ = 0.5 * (f(a) + f(b))\n",
    "    for k in range(1, n):\n",
    "        integ += f(a + k * h)\n",
    "    integ *= h\n",
    "    return integ"
   ]
  },
  {
   "cell_type": "code",
   "execution_count": 13,
   "metadata": {},
   "outputs": [],
   "source": [
    "def calculo_A_e_f(n, num_intervalos):\n",
    "    A = np.zeros((n, n))\n",
    "    f = np.zeros(n)\n",
    "    for i in range(n):\n",
    "        for j in range(n):\n",
    "            integrando_A = lambda x: dphi(x, i+1) * dphi(x, j+1) + phi(x, i+1) * phi(x, j+1)\n",
    "            A[i, j] = integral_trapezio(integrando_A, 0, 1, num_intervalos)\n",
    "        integrando_f = lambda x: x * phi(x, i+1)\n",
    "        f[i] = integral_trapezio(integrando_f, 0, 1, num_intervalos)\n",
    "    return A, f"
   ]
  },
  {
   "cell_type": "code",
   "execution_count": 14,
   "metadata": {},
   "outputs": [],
   "source": [
    "def resolver_sistema(A, f):\n",
    "    return np.linalg.solve(A, f)\n",
    "\n",
    "def solucao_aproximada(x, w):\n",
    "    return sum(w_i * phi(x, i+1) for i, w_i in enumerate(w))"
   ]
  },
  {
   "cell_type": "code",
   "execution_count": 17,
   "metadata": {},
   "outputs": [
    {
     "name": "stdout",
     "output_type": "stream",
     "text": [
      "Coeficientes w: [0.05856876]\n"
     ]
    }
   ],
   "source": [
    "n = 1  \n",
    "num_intervalos = 1000  \n",
    "\n",
    "# Calcular matriz A e vetor f\n",
    "A, f = calculo_A_e_f(n, num_intervalos)\n",
    "\n",
    "# sistema linear\n",
    "w = resolver_sistema(A, f)\n",
    "\n",
    "print(\"Coeficientes w:\", w)\n",
    "\n"
   ]
  }
 ],
 "metadata": {
  "kernelspec": {
   "display_name": "Python 3",
   "language": "python",
   "name": "python3"
  },
  "language_info": {
   "codemirror_mode": {
    "name": "ipython",
    "version": 3
   },
   "file_extension": ".py",
   "mimetype": "text/x-python",
   "name": "python",
   "nbconvert_exporter": "python",
   "pygments_lexer": "ipython3",
   "version": "3.8.5"
  }
 },
 "nbformat": 4,
 "nbformat_minor": 2
}
